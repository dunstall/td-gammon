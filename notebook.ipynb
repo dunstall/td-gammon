{
 "cells": [
  {
   "cell_type": "code",
   "execution_count": 1,
   "metadata": {},
   "outputs": [],
   "source": [
    "from model.model import Model"
   ]
  },
  {
   "cell_type": "code",
   "execution_count": 2,
   "metadata": {},
   "outputs": [
    {
     "name": "stderr",
     "output_type": "stream",
     "text": [
      "INFO:root:logging enabled\n"
     ]
    }
   ],
   "source": [
    "import logging\n",
    "logging.basicConfig(level=logging.INFO)\n",
    "logging.info(\"logging enabled\")"
   ]
  },
  {
   "cell_type": "code",
   "execution_count": null,
   "metadata": {},
   "outputs": [
    {
     "name": "stderr",
     "output_type": "stream",
     "text": [
      "INFO:root:training model [n_episodes = 1500]\n"
     ]
    },
    {
     "name": "stdout",
     "output_type": "stream",
     "text": [
      "WARNING:tensorflow:Layer dense is casting an input tensor from dtype float64 to the layer's dtype of float32, which is new behavior in TensorFlow 2.  The layer has dtype float32 because it's dtype defaults to floatx.\n",
      "\n",
      "If you intended to run this layer in float32, you can safely ignore this warning. If in doubt, this warning is likely only an issue if you are porting a TensorFlow 1.X model to TensorFlow 2.\n",
      "\n",
      "To change all layers to have dtype float64 by default, call `tf.keras.backend.set_floatx('float64')`. To change just this layer, pass dtype='float64' to the layer constructor. If you are the author of this layer, you can disable autocasting by passing autocast=False to the base Layer constructor.\n",
      "\n"
     ]
    },
    {
     "name": "stderr",
     "output_type": "stream",
     "text": [
      "WARNING:tensorflow:Layer dense is casting an input tensor from dtype float64 to the layer's dtype of float32, which is new behavior in TensorFlow 2.  The layer has dtype float32 because it's dtype defaults to floatx.\n",
      "\n",
      "If you intended to run this layer in float32, you can safely ignore this warning. If in doubt, this warning is likely only an issue if you are porting a TensorFlow 1.X model to TensorFlow 2.\n",
      "\n",
      "To change all layers to have dtype float64 by default, call `tf.keras.backend.set_floatx('float64')`. To change just this layer, pass dtype='float64' to the layer constructor. If you are the author of this layer, you can disable autocasting by passing autocast=False to the base Layer constructor.\n",
      "\n",
      "INFO:root:game complete [duration = 2.6705660820007324s], [winner = 1] [steps = 75]\n",
      "INFO:root:game complete [wins [0, 1]] [episodes 1]\n",
      "INFO:root:game complete [duration = 1.4275519847869873s], [winner = 0] [steps = 107]\n",
      "INFO:root:game complete [wins [1, 1]] [episodes 2]\n",
      "INFO:root:game complete [duration = 1.4489936828613281s], [winner = 1] [steps = 97]\n",
      "INFO:root:game complete [wins [1, 2]] [episodes 3]\n",
      "INFO:root:game complete [duration = 1.5376102924346924s], [winner = 1] [steps = 83]\n",
      "INFO:root:game complete [wins [1, 3]] [episodes 4]\n",
      "INFO:root:game complete [duration = 1.7176337242126465s], [winner = 1] [steps = 102]\n",
      "INFO:root:game complete [wins [1, 4]] [episodes 5]\n",
      "INFO:root:game complete [duration = 1.395838975906372s], [winner = 1] [steps = 75]\n",
      "INFO:root:game complete [wins [1, 5]] [episodes 6]\n",
      "INFO:root:game complete [duration = 1.401660680770874s], [winner = 1] [steps = 87]\n",
      "INFO:root:game complete [wins [1, 6]] [episodes 7]\n",
      "INFO:root:game complete [duration = 1.0547699928283691s], [winner = 1] [steps = 70]\n",
      "INFO:root:game complete [wins [1, 7]] [episodes 8]\n",
      "INFO:root:game complete [duration = 1.266934871673584s], [winner = 1] [steps = 73]\n",
      "INFO:root:game complete [wins [1, 8]] [episodes 9]\n",
      "INFO:root:game complete [duration = 1.0832939147949219s], [winner = 1] [steps = 74]\n",
      "INFO:root:game complete [wins [1, 9]] [episodes 10]\n",
      "INFO:root:game complete [duration = 1.3195488452911377s], [winner = 1] [steps = 82]\n",
      "INFO:root:game complete [wins [1, 10]] [episodes 11]\n",
      "INFO:root:game complete [duration = 1.2236368656158447s], [winner = 1] [steps = 102]\n",
      "INFO:root:game complete [wins [1, 11]] [episodes 12]\n",
      "INFO:root:game complete [duration = 1.4285674095153809s], [winner = 0] [steps = 92]\n",
      "INFO:root:game complete [wins [2, 11]] [episodes 13]\n"
     ]
    }
   ],
   "source": [
    "m = Model()\n",
    "m.train(1500)"
   ]
  },
  {
   "cell_type": "code",
   "execution_count": null,
   "metadata": {},
   "outputs": [],
   "source": []
  }
 ],
 "metadata": {
  "kernelspec": {
   "display_name": "conda_amazonei_tensorflow2_p36",
   "language": "python",
   "name": "conda_amazonei_tensorflow2_p36"
  },
  "language_info": {
   "codemirror_mode": {
    "name": "ipython",
    "version": 3
   },
   "file_extension": ".py",
   "mimetype": "text/x-python",
   "name": "python",
   "nbconvert_exporter": "python",
   "pygments_lexer": "ipython3",
   "version": "3.6.10"
  }
 },
 "nbformat": 4,
 "nbformat_minor": 4
}
